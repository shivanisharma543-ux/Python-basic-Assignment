{
  "nbformat": 4,
  "nbformat_minor": 0,
  "metadata": {
    "colab": {
      "provenance": [],
      "authorship_tag": "ABX9TyN2Jt97uXa0hqN/d6ewT4Df",
      "include_colab_link": true
    },
    "kernelspec": {
      "name": "python3",
      "display_name": "Python 3"
    },
    "language_info": {
      "name": "python"
    }
  },
  "cells": [
    {
      "cell_type": "markdown",
      "metadata": {
        "id": "view-in-github",
        "colab_type": "text"
      },
      "source": [
        "<a href=\"https://colab.research.google.com/github/shivanisharma543-ux/Python-basic-Assignment/blob/main/Python_basic_Assignment.ipynb\" target=\"_parent\"><img src=\"https://colab.research.google.com/assets/colab-badge.svg\" alt=\"Open In Colab\"/></a>"
      ]
    },
    {
      "cell_type": "code",
      "execution_count": null,
      "metadata": {
        "id": "PYQR-3k61Oj_"
      },
      "outputs": [],
      "source": [
        "'''\n",
        "1. What is Python, and why is it popular ?\n",
        "  Python is a high-level programming language.\n",
        "  It is popular because of its simplicity, readability and flexiblity.\n",
        "  it has lot of libraries and it is widely used in the industry.\n",
        "'''"
      ]
    },
    {
      "cell_type": "code",
      "source": [
        "'''\n",
        "2. What is an interpreter in Python ?\n",
        "  An interpreter translates the high-level code into machine code that is understood by the computer.\n",
        "  It process the code one statement at a time.\n",
        "  It first reads the python code then converts it into bytecode and then executes that bytecode using python virtual machine.\n",
        "  Widely used interpreters for python are Cpython, Jython, PyPy etc.\n",
        "\n",
        "'''"
      ],
      "metadata": {
        "id": "D0AOPFTC2QHy"
      },
      "execution_count": null,
      "outputs": []
    },
    {
      "cell_type": "code",
      "source": [
        "'''\n",
        "3. What are pre-defined keywords in Python?\n",
        "  In python pre-defined keyword are special words or characters that specific meaning and function to the python interpreter.\n",
        "  These cannot be used as variable names, function names or identifiers.\n",
        "\n",
        "'''"
      ],
      "metadata": {
        "id": "vkjwDlZc321y"
      },
      "execution_count": null,
      "outputs": []
    },
    {
      "cell_type": "code",
      "source": [
        "'''\n",
        "4. Can keywords be used as variable names ?\n",
        "  No, keywors cannot be used as variable names as they have specific meaning and function to the python interpreter.\n",
        "\n",
        "'''"
      ],
      "metadata": {
        "id": "78yg3OAc43Ip"
      },
      "execution_count": null,
      "outputs": []
    },
    {
      "cell_type": "code",
      "source": [
        "'''\n",
        "5. What is mutability in Python ?\n",
        "  Mutability is the ability to change or edit an object after its creation.\n",
        "  Those objects which can be edited or modified or changed are called mutable objects.\n",
        "  for e.g: list\n",
        "'''"
      ],
      "metadata": {
        "id": "rS2AfW955cZy"
      },
      "execution_count": null,
      "outputs": []
    },
    {
      "cell_type": "code",
      "source": [
        "'''\n",
        "6. Why are lists mutable, but tuples are immutable ?\n",
        "  lists are designed to store items or objects which can be modified or changed over time.\n",
        "  They are meant for dynamic operations.e.g grocery list where you can add to delete an item.\n",
        "  Tuples are meant or designed to store data that should not change over time.\n",
        "'''"
      ],
      "metadata": {
        "id": "ZzIlXCJBc3cJ"
      },
      "execution_count": null,
      "outputs": []
    },
    {
      "cell_type": "code",
      "source": [
        "'''\n",
        "7. What is the difference between “==” and “is” operators in Python ?\n",
        "  \"==\" is the equality operator, which compares values.\n",
        "  It checks whether two objects have the same content, even if they are stored in different memory locations.\n",
        "  \"is\" it is the identity operator which compared the object identity.\n",
        "  It returns true only when both variables points to the exact same object in the memory.\n",
        "'''"
      ],
      "metadata": {
        "id": "kmq1XeUJeVoI"
      },
      "execution_count": null,
      "outputs": []
    },
    {
      "cell_type": "code",
      "source": [
        "'''\n",
        "8. What are logical operators in Python ?\n",
        "  Logical operators are used to combine or compare statements and rturn a boolean value.\n",
        "  They return either True or False depending upon the logic.\n",
        "  e.g AND, OR, XOR operators.\n",
        "'''\n"
      ],
      "metadata": {
        "id": "DBbwQP3OgLiQ"
      },
      "execution_count": null,
      "outputs": []
    },
    {
      "cell_type": "code",
      "source": [
        "'''\n",
        "9. What is type casting in Python ?\n",
        "  Type casting is the ability to convert the data type or data structure from one to another.\n",
        "  E.g: From int to float or from str to int."
      ],
      "metadata": {
        "id": "0JWpwZ8ZhJSu"
      },
      "execution_count": null,
      "outputs": []
    },
    {
      "cell_type": "code",
      "source": [
        "'''\n",
        "10. What is the difference between implicit and explicit type casting ?\n",
        "  Implicit type casting: Python automatically converts one data type to another during the operation and no data is lost during this.\n",
        "  E.g: Adding integer to float results in a float output\n",
        "  Explicit type casting: The programmers explicitly write code or specific function to convert a variable from one data type to another.\n",
        "  E.g: convert str to int to perfom addition operation.\n",
        "'''"
      ],
      "metadata": {
        "id": "B2qcyXroo7oi"
      },
      "execution_count": null,
      "outputs": []
    },
    {
      "cell_type": "code",
      "source": [
        "'''\n",
        "11. What is the purpose of conditional statements in Python ?\n",
        "  Conditional statement help in desicion making within a program.\n",
        "  It allows different blocks of codes to be executed depending upon whether specific conditions are true or false.\n",
        "\n",
        "'''\n"
      ],
      "metadata": {
        "id": "qNRdQvP3rYfk"
      },
      "execution_count": null,
      "outputs": []
    },
    {
      "cell_type": "code",
      "source": [
        "'''\n",
        "12. How does the elif statement work ?\n",
        "  elif statement provides a way to test mulitple conditions sequentially after an initial if statement.\n",
        "  It helps with the descicion making as in day to day life we are faced with multiple condition to make an appropriate desicion.\n",
        "\n",
        "'''"
      ],
      "metadata": {
        "id": "z6fdcccpT9fv"
      },
      "execution_count": null,
      "outputs": []
    },
    {
      "cell_type": "code",
      "source": [
        "'''\n",
        "13. What is the difference between for and while loops ?\n",
        "  For loop: Iterates overs a sequence of items.The number of iteration is known or determined by the length of sequence.E.g: strings, lists.\n",
        "  While loop: Repeatedly executes a block of code as long as specified condition remains true.Number of iterations are not known in advance.\n",
        "\n",
        "'''\n"
      ],
      "metadata": {
        "id": "Hw_WibaJUj5K"
      },
      "execution_count": null,
      "outputs": []
    },
    {
      "cell_type": "code",
      "source": [
        "'''\n",
        "14. Describe a scenario where a while loop is more suitable than a for loop ?\n",
        "  While loop is more suitable in case of user input validations.\n",
        "  For e.g for email login or registration, user need to input the username and password. Until and unless both are correct user the login will not be successful.\n",
        "  in this scenario the number of attempts by user are not known in advance.\n",
        "'''"
      ],
      "metadata": {
        "id": "qEQ1XT6MdKUo"
      },
      "execution_count": null,
      "outputs": []
    },
    {
      "cell_type": "code",
      "source": [
        "#1. Write a Python program to print \"Hello, World\" ?\n",
        "print(\"Hello, world!\")"
      ],
      "metadata": {
        "colab": {
          "base_uri": "https://localhost:8080/"
        },
        "id": "_iVOQlEFehE0",
        "outputId": "dc3566dc-5fa5-4e82-a55a-2827b7b43b88"
      },
      "execution_count": null,
      "outputs": [
        {
          "output_type": "stream",
          "name": "stdout",
          "text": [
            "Hello, world!\n"
          ]
        }
      ]
    },
    {
      "cell_type": "code",
      "source": [
        "#2. Write a Python program that displays your name and age ?\n",
        "Name=\"Shivani Sharma\"\n",
        "Age=33\n",
        "print(\"Name:\", Name)\n",
        "print(\"Age:\", Age)"
      ],
      "metadata": {
        "colab": {
          "base_uri": "https://localhost:8080/"
        },
        "id": "srQNISdWe12u",
        "outputId": "74782837-a524-4760-e3e6-913de7660e76"
      },
      "execution_count": null,
      "outputs": [
        {
          "output_type": "stream",
          "name": "stdout",
          "text": [
            "Name: Shivani Sharma\n",
            "Age: 33\n"
          ]
        }
      ]
    },
    {
      "cell_type": "code",
      "source": [
        "#3. Write code to print all the pre-defined keywords in Python using the keyword library?\n",
        "help(\"keywords\")"
      ],
      "metadata": {
        "colab": {
          "base_uri": "https://localhost:8080/"
        },
        "id": "Fg2GCAZAf3N_",
        "outputId": "56a53599-83c3-46b4-e3f4-3036c47401b3"
      },
      "execution_count": null,
      "outputs": [
        {
          "output_type": "stream",
          "name": "stdout",
          "text": [
            "\n",
            "Here is a list of the Python keywords.  Enter any keyword to get more help.\n",
            "\n",
            "False               class               from                or\n",
            "None                continue            global              pass\n",
            "True                def                 if                  raise\n",
            "and                 del                 import              return\n",
            "as                  elif                in                  try\n",
            "assert              else                is                  while\n",
            "async               except              lambda              with\n",
            "await               finally             nonlocal            yield\n",
            "break               for                 not                 \n",
            "\n"
          ]
        }
      ]
    },
    {
      "cell_type": "code",
      "source": [
        "#4. Write a program that checks if a given word is a Python keyword.\n",
        "import keyword\n",
        "def is_python_keyword(word):\n",
        "  return keyword.iskeyword(word)\n",
        "word= input(\"Enter a word: \")\n",
        "if is_python_keyword(word):\n",
        "  print(\"It is a python keyword\")\n",
        "else:\n",
        "  print(\"It is NOT a python keyword\")\n"
      ],
      "metadata": {
        "colab": {
          "base_uri": "https://localhost:8080/"
        },
        "id": "qeZygG1kgG0w",
        "outputId": "13402e52-10f1-49b7-b8a1-167ae596071f"
      },
      "execution_count": null,
      "outputs": [
        {
          "output_type": "stream",
          "name": "stdout",
          "text": [
            "Enter a word: while\n",
            "It is a python keyword\n"
          ]
        }
      ]
    },
    {
      "cell_type": "code",
      "source": [
        "#5. Create a list and tuple in Python, and demonstrate how attempting to change an element works differently for each?\n",
        "list(range(0,10))\n"
      ],
      "metadata": {
        "colab": {
          "base_uri": "https://localhost:8080/"
        },
        "id": "mtjUVMlMkzSf",
        "outputId": "36cedc8d-0b28-40df-b32b-0fe1f4642ed9"
      },
      "execution_count": null,
      "outputs": [
        {
          "output_type": "execute_result",
          "data": {
            "text/plain": [
              "[0, 1, 2, 3, 4, 5, 6, 7, 8, 9]"
            ]
          },
          "metadata": {},
          "execution_count": 3
        }
      ]
    },
    {
      "cell_type": "code",
      "source": [
        "tuple(range(0,10))"
      ],
      "metadata": {
        "colab": {
          "base_uri": "https://localhost:8080/"
        },
        "id": "yiu1IviZLJOA",
        "outputId": "9132ed4f-a586-4164-b55c-8211c4aff28e"
      },
      "execution_count": null,
      "outputs": [
        {
          "output_type": "execute_result",
          "data": {
            "text/plain": [
              "(0, 1, 2, 3, 4, 5, 6, 7, 8, 9)"
            ]
          },
          "metadata": {},
          "execution_count": 4
        }
      ]
    },
    {
      "cell_type": "code",
      "source": [
        "#demonstration of changing an element in list\n",
        "list=[0,1,2,3,4,5,6,7,8,9]\n",
        "list[3]='shivani'\n",
        "print(list)"
      ],
      "metadata": {
        "colab": {
          "base_uri": "https://localhost:8080/"
        },
        "id": "yCRfW8-ALQss",
        "outputId": "97c9ea52-cb85-4f2d-d12c-5f15c7fa071c"
      },
      "execution_count": null,
      "outputs": [
        {
          "output_type": "stream",
          "name": "stdout",
          "text": [
            "[0, 1, 2, 'shivani', 4, 5, 6, 7, 8, 9]\n"
          ]
        }
      ]
    },
    {
      "cell_type": "code",
      "source": [
        "#demonstration of changing an element in tuple: Tuple is immutable so it will throw an error\n",
        "m=(0, 1, 2, 3, 4, 5, 6, 7, 8, 9)\n",
        "m[5]='shivani'\n",
        "print(m)"
      ],
      "metadata": {
        "colab": {
          "base_uri": "https://localhost:8080/",
          "height": 193
        },
        "id": "th7AWh1uMCe2",
        "outputId": "10fc6093-2174-41cc-89a9-4aeddab596a9"
      },
      "execution_count": null,
      "outputs": [
        {
          "output_type": "error",
          "ename": "TypeError",
          "evalue": "'tuple' object does not support item assignment",
          "traceback": [
            "\u001b[0;31m---------------------------------------------------------------------------\u001b[0m",
            "\u001b[0;31mTypeError\u001b[0m                                 Traceback (most recent call last)",
            "\u001b[0;32m/tmp/ipython-input-3242919075.py\u001b[0m in \u001b[0;36m<cell line: 0>\u001b[0;34m()\u001b[0m\n\u001b[1;32m      1\u001b[0m \u001b[0;31m#demonstration of changing an element in tuple: Tuple is immutable so it will throw an error\u001b[0m\u001b[0;34m\u001b[0m\u001b[0;34m\u001b[0m\u001b[0m\n\u001b[1;32m      2\u001b[0m \u001b[0mm\u001b[0m\u001b[0;34m=\u001b[0m\u001b[0;34m(\u001b[0m\u001b[0;36m0\u001b[0m\u001b[0;34m,\u001b[0m \u001b[0;36m1\u001b[0m\u001b[0;34m,\u001b[0m \u001b[0;36m2\u001b[0m\u001b[0;34m,\u001b[0m \u001b[0;36m3\u001b[0m\u001b[0;34m,\u001b[0m \u001b[0;36m4\u001b[0m\u001b[0;34m,\u001b[0m \u001b[0;36m5\u001b[0m\u001b[0;34m,\u001b[0m \u001b[0;36m6\u001b[0m\u001b[0;34m,\u001b[0m \u001b[0;36m7\u001b[0m\u001b[0;34m,\u001b[0m \u001b[0;36m8\u001b[0m\u001b[0;34m,\u001b[0m \u001b[0;36m9\u001b[0m\u001b[0;34m)\u001b[0m\u001b[0;34m\u001b[0m\u001b[0;34m\u001b[0m\u001b[0m\n\u001b[0;32m----> 3\u001b[0;31m \u001b[0mm\u001b[0m\u001b[0;34m[\u001b[0m\u001b[0;36m5\u001b[0m\u001b[0;34m]\u001b[0m\u001b[0;34m=\u001b[0m\u001b[0;34m'shivani'\u001b[0m\u001b[0;34m\u001b[0m\u001b[0;34m\u001b[0m\u001b[0m\n\u001b[0m\u001b[1;32m      4\u001b[0m \u001b[0mprint\u001b[0m\u001b[0;34m(\u001b[0m\u001b[0mm\u001b[0m\u001b[0;34m)\u001b[0m\u001b[0;34m\u001b[0m\u001b[0;34m\u001b[0m\u001b[0m\n",
            "\u001b[0;31mTypeError\u001b[0m: 'tuple' object does not support item assignment"
          ]
        }
      ]
    },
    {
      "cell_type": "code",
      "source": [
        "#6. Write a function to demonstrate the behavior of mutable and immutable arguments.\n",
        "#Function demonstrating mutable behaviour\n",
        "def modify_mutable(my_list):\n",
        "  print(\"Inside function (before change):\", my_list)\n",
        "  my_list.append(100)\n",
        "  print(\"Inside function (after change):\", my_list)\n",
        "\n",
        "# Function demonstrating immutable behaviour\n",
        "def modify_immutable(x):\n",
        "  print(\"Inside function (before change):\", x)\n",
        "  x+=10\n",
        "  print(\"Inside function(after change):\", x)\n"
      ],
      "metadata": {
        "id": "WjoaJgAhNNHR"
      },
      "execution_count": null,
      "outputs": []
    },
    {
      "cell_type": "code",
      "source": [
        "#7.  Write a program that performs basic arithmetic operations on two user-input numbers.\n",
        "def main():\n",
        "  print(\"Basic Arithmetic Operations\")\n",
        "  try:\n",
        "    num1=float(input(\"Please enter the first number: \"))\n",
        "    num2=float(input(\"Please enter the second number: \"))\n",
        "\n",
        "  except ValueError:\n",
        "    print(\"Invalid input. Please enter numeric values.\")\n",
        "    return\n",
        "\n",
        "  print(\"\\nSelect an operation:\")\n",
        "  print(\"1. Addition (+)\")\n",
        "  print(\"2. Subraction (-)\")\n",
        "  print(\"3. Multiplication (*)\")\n",
        "  print(\"4. Division (/)\")\n",
        "  print(\"5. Exponentiation (**)\")\n",
        "  print(\"6. Modulus (%)\")\n",
        "\n",
        "  choice=input(\"Enter choice (1/2/3/4/5/6): \")\n",
        "  if choice == \"1\":\n",
        "    result = num1 + num2\n",
        "    operator = \"+\"\n",
        "  elif choice == \"2\":\n",
        "    result = num1 - num2\n",
        "    operator = \"-\"\n",
        "  elif choice == \"3\":\n",
        "    result = num1 * num2\n",
        "    operator = \"*\"\n",
        "  elif choice == \"4\":\n",
        "    if num2 == 0:\n",
        "      print(\"Error:Division by zero not allowed\")\n",
        "      return\n",
        "    result = num1 / num2\n",
        "    operator = \"/\"\n",
        "  elif choice == \"5\":\n",
        "    result = num1 ** num2\n",
        "    operator = \"**\"\n",
        "  elif choice == \"6\":\n",
        "    if num2 == 0:\n",
        "      print(\"Error:Division by zero not allowed\")\n",
        "      return\n",
        "    result = num1 % num2\n",
        "    operator = \"%\"\n",
        "  else:\n",
        "    print(\"Invalid choice\")\n",
        "    return\n",
        "  print (f\"\\nresult: {num1} {operator} {num2} = {result}\")\n",
        "\n",
        "if __name__==\"__main__\":\n",
        "     main()\n",
        "\n"
      ],
      "metadata": {
        "colab": {
          "base_uri": "https://localhost:8080/"
        },
        "id": "QNYJnypKQ2sz",
        "outputId": "797f83e1-2595-4c71-a7c2-9dfc7a1c3a24"
      },
      "execution_count": null,
      "outputs": [
        {
          "output_type": "stream",
          "name": "stdout",
          "text": [
            "Basic Arithmetic Operations\n",
            "Please enter the first number: 10\n",
            "Please enter the second number: 2\n",
            "\n",
            "Select an operation:\n",
            "1. Addition (+)\n",
            "2. Subraction (-)\n",
            "3. Multiplication (*)\n",
            "4. Division (/)\n",
            "5. Exponentiation (**)\n",
            "6. Modulus (%)\n",
            "Enter choice (1/2/3/4/5/6): 3\n",
            "\n",
            "result: 10.0 * 2.0 = 20.0\n"
          ]
        }
      ]
    },
    {
      "cell_type": "code",
      "source": [
        "# 8. Write a program to demonstrate the use of logical operators.\n",
        "def main():\n",
        "  print(\"demonstration of logical operators\")\n",
        "  a=input(\"Enter value for a (True/False)\")\n",
        "  b=input(\"Enter value for b (True/False)\")\n",
        "  if a=='True':\n",
        "    a=True\n",
        "  elif a=='False':\n",
        "    a=False\n",
        "  else:\n",
        "    print(\"Invalid input for a. Please enter True or False\")\n",
        "    return\n",
        "  if b=='True':\n",
        "    b=True\n",
        "  elif b=='False':\n",
        "    b=False\n",
        "  else:\n",
        "    print(\"Invalid input for b. Please enter True or False\")\n",
        "    return\n",
        "  print(\"\\nResults of logical operations:\")\n",
        "  print(f\"a AND b: {a and b}\")\n",
        "  print(f\"a OR b: {a or b}\")\n",
        "  print(f\"a XOR b: {a or b}\")\n",
        "if __name__==\"__main__\":\n",
        "  main()\n",
        "\n"
      ],
      "metadata": {
        "colab": {
          "base_uri": "https://localhost:8080/"
        },
        "id": "LmXg2YHk2Bur",
        "outputId": "94b6b701-0326-4d89-b74c-4738b5615331"
      },
      "execution_count": null,
      "outputs": [
        {
          "output_type": "stream",
          "name": "stdout",
          "text": [
            "demonstration of logical operators\n",
            "Enter value for a (True/False)True\n",
            "Enter value for b (True/False)False\n",
            "\n",
            "Results of logical operations:\n",
            "a AND b: False\n",
            "a OR b: True\n",
            "a XOR b: True\n"
          ]
        }
      ]
    },
    {
      "cell_type": "code",
      "source": [
        "#9.  Write a Python program to convert user input from string to integer, float, and boolean types.\n",
        "def main():\n",
        "  user_input=input(\"Enter a value: \")\n",
        "\n",
        "  print(\"\\nConversion Results:\")\n",
        "  print(f\"original string:'{user_input}'\")\n",
        "  try:\n",
        "    int_value=int(user_input)\n",
        "    print(f\"integer: {int_value}\")\n",
        "  except ValueError:\n",
        "    print(\"integer: Conversion failed(invalid integer format)\")\n",
        "\n",
        "  try:\n",
        "    float_value=float(user_input)\n",
        "    print(f\"float: {float_value}\")\n",
        "  except ValueError:\n",
        "    print(\"float: Conversion failed(invalid float format)\")\n",
        "\n",
        "  try:\n",
        "    bool_value=bool(user_input)\n",
        "    print(f\"boolean: {bool_value}\")\n",
        "  except ValueError:\n",
        "    print(\"boolean: Coversion failed(no data enetered)\")\n",
        "\n",
        "if __name__== \"__main__\":\n",
        "  main()"
      ],
      "metadata": {
        "colab": {
          "base_uri": "https://localhost:8080/"
        },
        "id": "TkXD0GSfCTxx",
        "outputId": "4619cf81-f2fe-4de6-c5d1-3b320fab09e6"
      },
      "execution_count": null,
      "outputs": [
        {
          "output_type": "stream",
          "name": "stdout",
          "text": [
            "Enter a value: true\n",
            "\n",
            "Conversion Results:\n",
            "original string:'true'\n",
            "integer: Conversion failed(invalid integer format)\n",
            "float: Conversion failed(invalid float format)\n",
            "boolean: True\n"
          ]
        }
      ]
    },
    {
      "cell_type": "code",
      "source": [
        "#10.  Write code to demonstrate type casting with list elements.\n",
        "def main():\n",
        "  list=[1, 2, 35, \"Sai\", \"Apples\", 3.7, \"hello\", \"True\"]\n",
        "  print(\"list:\")\n",
        "  print(list)\n",
        "  int_list=[]\n",
        "  float_list=[]\n",
        "  bool_list=[]\n",
        "  for item in list:\n",
        "    try:\n",
        "      int_list.append(int(float(item)))\n",
        "    except ValueError:\n",
        "      int_list.append(None)\n",
        "\n",
        "    try:\n",
        "      float_list.append(float(item))\n",
        "    except ValueError:\n",
        "      float_list.append(None)\n",
        "\n",
        "    bool_list.append(bool(item))\n",
        "  print(\"\\nConverted to integers(None if conversion failed):\")\n",
        "  print(int_list)\n",
        "\n",
        "  print(\"\\nConverted to floats(None if conversion failed):\")\n",
        "  print(float_list)\n",
        "\n",
        "  print(\"\\nConverted to booleans:\")\n",
        "  print(bool_list)\n",
        "if __name__==\"__main__\":\n",
        "  main()\n"
      ],
      "metadata": {
        "colab": {
          "base_uri": "https://localhost:8080/"
        },
        "id": "yTyxvsWJF5Wj",
        "outputId": "697555c9-5bf1-4469-c503-1d7df1ba6fc9"
      },
      "execution_count": null,
      "outputs": [
        {
          "output_type": "stream",
          "name": "stdout",
          "text": [
            "list:\n",
            "[1, 2, 35, 'Sai', 'Apples', 3.7, 'hello', 'True']\n",
            "\n",
            "Converted to integers(None if conversion failed):\n",
            "[1, 2, 35, None, None, 3, None, None]\n",
            "\n",
            "Converted to floats(None if conversion failed):\n",
            "[1.0, 2.0, 35.0, None, None, 3.7, None, None]\n",
            "\n",
            "Converted to booleans:\n",
            "[True, True, True, True, True, True, True, True]\n"
          ]
        }
      ]
    },
    {
      "cell_type": "code",
      "source": [
        "#11.Write a program that checks if a number is positive, negative, or zero\n",
        "def main():\n",
        "  try:\n",
        "    number=float(input(\"Enter a number: \"))\n",
        "  except ValueError:\n",
        "    print(\"Invalid input: please enter a numeric value\")\n",
        "    return\n",
        "  if number>0:\n",
        "    print(\"the number is positive\")\n",
        "  elif number<0:\n",
        "    print(\"the number is negative\")\n",
        "  else:\n",
        "    print(\"the number is zero\")\n",
        "if __name__== \"__main__\":\n",
        "  main()"
      ],
      "metadata": {
        "colab": {
          "base_uri": "https://localhost:8080/"
        },
        "id": "Qvqm06aoKANv",
        "outputId": "3ef1e1da-24c4-4911-c493-6043dfad5f43"
      },
      "execution_count": null,
      "outputs": [
        {
          "output_type": "stream",
          "name": "stdout",
          "text": [
            "Enter a number: 5\n",
            "the number is positive\n"
          ]
        }
      ]
    },
    {
      "cell_type": "code",
      "source": [
        "#12. Write a for loop to print numbers from 1 to 10.\n",
        "for i in range(1,11):\n",
        "  print(i)"
      ],
      "metadata": {
        "colab": {
          "base_uri": "https://localhost:8080/"
        },
        "id": "RlYKrVFbLe3H",
        "outputId": "9e823f11-7543-4c91-9f25-7f3289f0424e"
      },
      "execution_count": null,
      "outputs": [
        {
          "output_type": "stream",
          "name": "stdout",
          "text": [
            "1\n",
            "2\n",
            "3\n",
            "4\n",
            "5\n",
            "6\n",
            "7\n",
            "8\n",
            "9\n",
            "10\n"
          ]
        }
      ]
    },
    {
      "cell_type": "code",
      "source": [
        "#13.Write a Python program to find the sum of all even numbers between 1 and 50.\n",
        "def main():\n",
        "  total=0\n",
        "  for number in range (2,51,2):\n",
        "    total+=number\n",
        "  print(\"The sum of all even numbers between 1 and 50 is:\", total)\n",
        "\n",
        "if __name__== \"__main__\":\n",
        "  main()"
      ],
      "metadata": {
        "colab": {
          "base_uri": "https://localhost:8080/"
        },
        "id": "mnQ6MTiVLttm",
        "outputId": "6a6014cf-7dbe-4457-f6e5-37e161049a3f"
      },
      "execution_count": null,
      "outputs": [
        {
          "output_type": "stream",
          "name": "stdout",
          "text": [
            "The sum of all even numbers between 1 and 50 is: 650\n"
          ]
        }
      ]
    },
    {
      "cell_type": "code",
      "source": [
        "#14.Write a program to reverse a string using a while loop.\n",
        "def main():\n",
        "  entity=input(\"Enter a string: \")\n",
        "  reversed_str= \"\"\n",
        "  index=len(entity)-1\n",
        "  while index>=0:\n",
        "    reversed_str+=entity[index]\n",
        "    index-=1\n",
        "  print(\"Reversed string:\", reversed_str)\n",
        "if __name__==\"__main__\":\n",
        "  main()"
      ],
      "metadata": {
        "colab": {
          "base_uri": "https://localhost:8080/"
        },
        "id": "ttSG5Ez-M5qN",
        "outputId": "81935ef4-45f1-45f5-cf3f-db7e8c050556"
      },
      "execution_count": null,
      "outputs": [
        {
          "output_type": "stream",
          "name": "stdout",
          "text": [
            "Enter a string: shivani\n",
            "Reversed string: inavihs\n"
          ]
        }
      ]
    },
    {
      "cell_type": "code",
      "source": [
        "#15. Write a Python program to calculate the factorial of a number provided by the user using a while loop.\n",
        "def main():\n",
        "  try:\n",
        "    num=int(input(\"Enter a non-negative integer: \"))\n",
        "    if num<0:\n",
        "      print(\"Factorial is not defined for negative numbers\")\n",
        "  except ValueError:\n",
        "      print(\"Invalid input. Please enter a positive integer\")\n",
        "      return\n",
        "  factorial=1\n",
        "  i=1\n",
        "  while i<=num:\n",
        "    factorial*=i\n",
        "    i+=1\n",
        "  print(f\"factorial of {num} is: {factorial}\")\n",
        "if __name__==\"__main__\":\n",
        "  main()"
      ],
      "metadata": {
        "colab": {
          "base_uri": "https://localhost:8080/"
        },
        "id": "qqOtvfrcOkgF",
        "outputId": "7ab3a857-161e-4008-c2f6-225e9a34437f"
      },
      "execution_count": null,
      "outputs": [
        {
          "output_type": "stream",
          "name": "stdout",
          "text": [
            "Enter a non-negative integer: 5\n",
            "factorial of 5 is: 120\n"
          ]
        }
      ]
    }
  ]
}